{
 "cells": [
  {
   "cell_type": "markdown",
   "metadata": {},
   "source": [
    "# Heat Transfer in Ice\n",
    "\n",
    "This week’s lab is designed to give you a better intuition regarding the time scales of heat diffusion in ice, described by the heat equation\n",
    "\n",
    "$$ \\frac{\\partial T}{\\partial t} = \\alpha \\nabla^2 T $$\n",
    "\n",
    "To gain experience with some solutions to this heat equation, we have prepared a Python notebook. The idea is to allow you to vary input parameters for a few scenarios and learn to better anticipate what the results might be. It is not important that you have a background in coding with python. Rather, the intent here is that you adjust inputs to the functions and think about the results.\n",
    "\n",
    "##### Initial comments on using this notebook: \n",
    "\n",
    "- There are different cells for code and for 'markdown' which is the text. If you double click on the text you can change it, but there is no reason to do that now.\n",
    "\n",
    "- I have provided helper notes on locations where I think that you should change the code to play around with one of the models (### Please Change! ###) as well as notes in places where you probably shouldn't change the code (### Don't Change ###). Having said that, if you are familiar with python feel free to change whatever you want.\n",
    "\n",
    "- The code can be run with the buttons at the top or from the keyboard. Press 'Shift+Enter' to run a cell and advance to the next cell or 'Ctrl+Enter' to run a cell and stay in it.\n",
    "\n",
    "- The figures are interactive. Try the sliders, zooming, panning, or rescaling the figure to get a better look at function output."
   ]
  },
  {
   "cell_type": "code",
   "execution_count": null,
   "metadata": {},
   "outputs": [],
   "source": [
    "### Don't Change ###\n",
    "\n",
    "# Import the libraries that we are going to need\n",
    "%matplotlib notebook\n",
    "import ipywidgets\n",
    "from heat_transfer_functions_and_plotting import *"
   ]
  },
  {
   "cell_type": "markdown",
   "metadata": {},
   "source": [
    "## 1) Surface Perturbation\n",
    "\n",
    "First, we will examine a very simple scenario where the entire domain begins at one temperature then the surface is perturbed to a new temperature. Heat will begin to diffuse into the domain and warm up the ice below the surface.\n",
    "\n",
    "Everything is set up for you below, but try adjusting some of the parameters like, dT (temperature change), t (time), and $\\alpha$ (diffusivity) to get a feeling for the time scales for diffusion of this surface perturbation."
   ]
  },
  {
   "cell_type": "code",
   "execution_count": null,
   "metadata": {},
   "outputs": [],
   "source": [
    "### Don't Change ###\n",
    "\n",
    "# Plot the figure using a local plotting function\n",
    "l1 = perturbation_interactive()\n",
    "\n",
    "# An update function for the interactive figure\n",
    "def perturbation_update(dT = (0,10), t = (0,1000), alpha = (1,100)):\n",
    "    T = surfacePerturbation(0.,dT,t,np.linspace(0,1000,100),alpha)\n",
    "    l1.set_xdata(T)\n",
    "\n",
    "# Update with the sliders\n",
    "ipywidgets.interactive(perturbation_update)"
   ]
  },
  {
   "cell_type": "markdown",
   "metadata": {},
   "source": [
    "### Questions on 1:\n",
    "\n",
    "- How do the results compare to your intuition about how long it should take for heat to diffuse into the ice?\n",
    "\n",
    "- If the temperature change is bigger does the perturbation propogate faster? or is it simply a scaling factor?"
   ]
  },
  {
   "cell_type": "markdown",
   "metadata": {},
   "source": [
    "## 2) Harmonic Surface Temperature\n",
    "\n",
    "Now we are going to let the surface temperature change in time. If we choose to make the surface temperature a sinusoidal function, there is again a solution to the heat equation.\n",
    "\n",
    "Same as before, we want to play around with this model to get a feel for how it works. There are some initial values to try out, but try different numbers to get a feel for the behavior."
   ]
  },
  {
   "cell_type": "code",
   "execution_count": null,
   "metadata": {},
   "outputs": [],
   "source": [
    "### Please Change! ###\n",
    "\n",
    "P_omega = 1.\n",
    "\n",
    "### Don't Change ###\n",
    "\n",
    "# Set arrays for depth and time\n",
    "zs = np.linspace(0,20,100)\n",
    "ts = np.linspace(0,P_omega,100)\n",
    "\n",
    "# Plot the figure using a local plotting function\n",
    "l1,p1,l2,p2 = harmonic_interactive(zs=zs,ts=ts,omega = 1./P_omega)\n",
    "\n",
    "# An update function for the interactive figure\n",
    "def update(z = (0,20), t = (0,P_omega,P_omega/100.)):\n",
    "    T = harmonicSurface(0,1.,ts,z,1./P_omega)\n",
    "    l1.set_ydata(T)\n",
    "    p1.set_data(np.transpose([t,T[np.argmin(abs(ts-t))]]))\n",
    "    T = harmonicSurface(0,1.,t,zs,omega=1./P_omega)\n",
    "    l2.set_xdata(T)\n",
    "    p2.set_data(np.transpose([T[np.argmin(abs(zs-z))],z]))\n",
    "\n",
    "# Update with the sliders\n",
    "ipywidgets.interactive(update)"
   ]
  },
  {
   "cell_type": "markdown",
   "metadata": {},
   "source": [
    "### Question on 2:\n",
    "\n",
    "In Cuffey and Paterson (2010) Chapter 9, they give us some helpful insight into an equation for the function that we were using above: \n",
    "\n",
    "The amplitude of the sinusoidal temperature wave decreases as $exp(−z\\sqrt{\\frac{\\pi \\omega}{\\alpha}})$. Thus, the higher the frequency, the more rapid the attenuation with depth. Calculate the depth at which the temperature variations are 5% of the surface variations:\n",
    "\n",
    "$$ z_5 = -ln(0.05)\\sqrt{\\frac{\\alpha}{\\pi \\omega}} $$\n",
    "\n",
    "Temperature maxima and minima propagate at a velocity:\n",
    "\n",
    "$$ v = 2\\sqrt{\\pi \\omega \\alpha} $$\n",
    "\n",
    "Use the equations above to fill in the table from their book (reproduced below). This is started for you in the code cell below. Note that they use period $P_\\omega$ (we are using frequency $\\omega = \\frac{1}{P_\\omega}$). You could complete the table with only the equations, but try playing with the model above to visualize the result.\n",
    "\n",
    "<img src=\"./candpTable.png\" width=\"400\">"
   ]
  },
  {
   "cell_type": "code",
   "execution_count": null,
   "metadata": {},
   "outputs": [],
   "source": [
    "### Please Change! ###\n",
    "\n",
    "# Input the period\n",
    "P_omega = 1.\n",
    "\n",
    "# Frequency is 1 over period\n",
    "omega = 1./P_omega\n",
    "\n",
    "# Calculate the depth at which variations are 5% of the surface\n",
    "z5 = -np.log(0.05)*np.sqrt(alpha*spy/(np.pi*omega))\n",
    "\n",
    "# Print the output\n",
    "print('For P_omega =',round(P_omega,2),'years ; z5 =',round(z5,2),'meters')"
   ]
  },
  {
   "cell_type": "markdown",
   "metadata": {},
   "source": [
    "### Question on Real Data\n",
    "\n",
    "Below is a plot of real temperatures measured from the Greenland Ice Sheet ablation zone. The 'winter cold wave' persists in the ice well into the summer months. Does this agree with your results above? What was the $\\Delta t$ that you got for 1yr? Is it about the same as in the data?  \n",
    "\n",
    "<img src=\"./data.png\" width=\"600\">"
   ]
  }
 ],
 "metadata": {
  "kernelspec": {
   "display_name": "Python 3",
   "language": "python",
   "name": "python3"
  },
  "language_info": {
   "codemirror_mode": {
    "name": "ipython",
    "version": 3
   },
   "file_extension": ".py",
   "mimetype": "text/x-python",
   "name": "python",
   "nbconvert_exporter": "python",
   "pygments_lexer": "ipython3",
   "version": "3.7.3"
  }
 },
 "nbformat": 4,
 "nbformat_minor": 2
}
