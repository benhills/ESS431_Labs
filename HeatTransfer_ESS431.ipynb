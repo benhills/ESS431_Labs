{
 "cells": [
  {
   "cell_type": "markdown",
   "metadata": {},
   "source": [
    "# Heat Transfer in Ice"
   ]
  },
  {
   "cell_type": "markdown",
   "metadata": {},
   "source": [
    "This week’s lab is designed to give you a better intuition regarding the time scales of heat diffusion in ice, described by the heat equation\n",
    "\n",
    "$$ \\frac{\\partial T}{\\partial t} = \\alpha \\nabla^2 T $$\n",
    "\n",
    "To gain experience with some solutions to this heat equation, we have prepared a Python notebook. The idea is to allow you to vary input parameters for a few scenarios and learn to better anticipate what the results might be. It is not important that you have a background in coding with python. Rather, the intent here is that you adjust inputs to the functions and think about the results."
   ]
  },
  {
   "cell_type": "markdown",
   "metadata": {},
   "source": [
    "##### Initial comments on using this notebook: \n",
    "\n",
    "- There are different cells for code and for 'markdown' which is the text. If you double click on the text you can change it, but there is no reason to do that now.\n",
    "\n",
    "- I have provided helper notes on locations where I think that you should change the code to play around with one of the models (### Please Change! ###) as well as notes in places where you probably shouldn't change the code (### Don't Change ###). Having said that, if you are familiar with python feel free to change whatever you want.\n",
    "\n",
    "- The code can be run with the buttons at the top or from the keyboard. Press 'Shift+Enter' to run a cell and advance to the next cell or 'Ctrl+Enter' to run a cell and stay in it.\n",
    "\n",
    "- The figures are interactive. Try zooming, panning, or rescaling the figure to get a better look at the data."
   ]
  },
  {
   "cell_type": "code",
   "execution_count": null,
   "metadata": {},
   "outputs": [],
   "source": [
    "### Don't Change ###\n",
    "\n",
    "# Import the libraries that we are going to need\n",
    "%matplotlib notebook\n",
    "import numpy as np\n",
    "import matplotlib.pyplot as plt\n",
    "\n",
    "# Import some local plotting functions\n",
    "from plot_figures import *\n",
    "\n",
    "# Dimensional Constant\n",
    "spy  = 60.*60.*24.*365.24    # seconds per year (s yr-1)"
   ]
  },
  {
   "cell_type": "markdown",
   "metadata": {},
   "source": [
    "### 1) Surface Perturbation\n",
    "\n",
    "First, we will examine a very simple scenario where the entire domain begins at one temperature then the surface is perturbed to a new temperature. Heat will begin to diffuse into the domain and warm up the ice below the surface."
   ]
  },
  {
   "cell_type": "code",
   "execution_count": null,
   "metadata": {},
   "outputs": [],
   "source": [
    "### Don't Change ###\n",
    "\n",
    "# Function for the surface perturbation\n",
    "def surfacePerturbation(T0,dT,t,z,α):\n",
    "    t *= spy\n",
    "    from scipy.special import erfc\n",
    "    # equation 2.4-7 from Carslaw and Jaegar (1959)\n",
    "    T = T0 + dT*erfc(abs(z)/(2.*np.sqrt(α*t)))\n",
    "    return T"
   ]
  },
  {
   "cell_type": "markdown",
   "metadata": {},
   "source": [
    "##### Try it out\n",
    "\n",
    "Try running this function and making a figure! Everything is set up for you below, but try adjusting some of the parameters like T0 (initial temperature), dT (temperature change), t (time), and zs (distances from the surface) to get a feeling for the time scales for diffusion of this surface perturbation."
   ]
  },
  {
   "cell_type": "code",
   "execution_count": null,
   "metadata": {},
   "outputs": [],
   "source": [
    "### Please Change! ###\n",
    "\n",
    "# Set up the problem with these constants\n",
    "T0 = 0.                      # Initial Temperature\n",
    "dT = 1.                      # Temperature Change\n",
    "t = 1.                       # time in years\n",
    "zs = np.arange(0,100,0.1)    # a set of distances\n",
    "α = 1.09e-6                  # Thermal Diffusivity of Ice (m2 s-1), if you change this the actual value is 1.09e-6\n",
    "\n",
    "### Don't Change ###\n",
    "\n",
    "# Plot the figure using a local plotting function\n",
    "plot_perturbation_figure(T0,dT,t,zs,α,surfacePerturbation)"
   ]
  },
  {
   "cell_type": "markdown",
   "metadata": {},
   "source": [
    "### Questions:\n",
    "\n",
    "1) How do the results compare to your intuition about how long it should take for heat to diffuse into the ice?\n",
    "\n",
    "2) If the temperature change is bigger does the perturbation propogate faster? or is it simply a scaling factor?\n",
    "\n",
    "3) Did you try a different $\\alpha$ (thermal diffusivity)? Does the rate of propogation scale linearly with $\\alpha$?\n",
    "\n",
    "### 2) Harmonic Surface Temperature\n",
    "\n",
    "Now we are going to let the surface temperature change in time. If we choose to make the surface temperature a sinusoidal function, there is again a solution to the heat equation."
   ]
  },
  {
   "cell_type": "code",
   "execution_count": null,
   "metadata": {},
   "outputs": [],
   "source": [
    "### Don't Change ###\n",
    "\n",
    "# Surface Temperature Harmonic Function\n",
    "def harmonicSurface(T0,Ta,t,z,omega,α=α):\n",
    "    α *= spy\n",
    "    # equation 2.6-8 from Carslaw and Jaegar (1959)\n",
    "    T = T0 + Ta * np.exp(-z*np.sqrt(np.pi*ω/(α))) * np.sin((2.*np.pi*ω*t)-z*np.sqrt(np.pi*ω/(α)))\n",
    "    return T"
   ]
  },
  {
   "cell_type": "markdown",
   "metadata": {},
   "source": [
    "##### Try this new solution\n",
    "\n",
    "Same as before, we want to play around with this model to get a feel for how it works. There are some initial values to try out, and a plotting script, but try different numbers to get a feel for the behavior.\n",
    "\n",
    "*Please note that if you change the frequency you are probably going to have to change the times and the depths as well or you wont be able to see anything useful in the plot."
   ]
  },
  {
   "cell_type": "code",
   "execution_count": null,
   "metadata": {},
   "outputs": [],
   "source": [
    "### Please Change! ###\n",
    "\n",
    "# Set up the problem with these constants\n",
    "T0 = 0.                       # mean temperature\n",
    "Ta = 1.                       # amplitude of temperature variations\n",
    "ts = np.linspace(0,1,13)      # time in years (13 so that we plot one profile for each month and an extra for '0')\n",
    "zs = np.arange(0,21,1)        # a set of distances in meters\n",
    "ω = 1.                    # frequency of oscillation (cycles per yr)\n",
    "\n",
    "n_profiles = 10               # number of profiles to plot\n",
    "\n",
    "### Don't Change ###\n",
    "\n",
    "# Plot the figures using a local function imported from another script\n",
    "plot_harmonic_figures(zs,ts,T0,Ta,ω,n_profiles,harmonicSurface)"
   ]
  },
  {
   "cell_type": "markdown",
   "metadata": {},
   "source": [
    "### Jupyter Widget\n",
    "\n",
    "Maybe an interactive figure will help?"
   ]
  },
  {
   "cell_type": "code",
   "execution_count": null,
   "metadata": {},
   "outputs": [],
   "source": [
    "zs = np.linspace(0,20,100)\n",
    "ts = np.linspace(0,1,100)\n",
    "l1,p1,l2,p2 = plot_harmonic_widget(zs,ts,T0,Ta,ω,n_profiles,harmonicSurface)\n",
    "\n",
    "def update(z = (np.min(zs),np.max(zs),0.1), t = (np.min(ts),np.max(ts),0.05)):\n",
    "    T = harmonicSurface(T0,Ta,ts,z,ω)\n",
    "    l1.set_ydata(T)\n",
    "    p1.set_data(np.transpose([t,T[np.argmin(abs(ts-t))]]))\n",
    "    T = harmonicSurface(T0,Ta,t,zs,ω)\n",
    "    l2.set_xdata(T)\n",
    "    p2.set_data(np.transpose([T[np.argmin(abs(zs-z))],z]))\n",
    "\n",
    "ipywidgets.interactive(update)"
   ]
  },
  {
   "cell_type": "markdown",
   "metadata": {},
   "source": [
    "### Questions:"
   ]
  },
  {
   "cell_type": "markdown",
   "metadata": {},
   "source": [
    "In Cuffey and Paterson (2010) Chapter 9, they give us some helpful insight into an equation for the function that we were using above: \n",
    "\n",
    "- The amplitude of the sinusoidal temperature wave decreases as $exp(−z\\sqrt{\\frac{\\pi \\omega}{\\alpha}})$. Thus, the higher the frequency, the more rapid the attenuation with depth.\n",
    "\n",
    "- Temperature maxima and minima propagate at a velocity $2\\sqrt{\\pi \\omega \\alpha}$.\n",
    "\n",
    "1) Use the equations above to fill in the table from their book (reproduced below). Note that they use period $P_\\omega$ (we are using frequency $\\omega = \\frac{1}{P_\\omega}$). You could complete the table with only the equations, but try playing with the model to visualize the result.\n",
    "\n",
    "<img src=\"./candpTable.png\" width=\"400\">\n",
    "\n",
    "2) In class on Wednesday we looked at some real data. I have plotted it again below. The 'winter cold wave' persists in the ice well into the summer months. Does this agree with your results above? What was the $\\Delta t$ that you got for 1yr? Is it about the same as in the data?  \n",
    "\n",
    "<img src=\"./data.png\" width=\"600\">"
   ]
  }
 ],
 "metadata": {
  "kernelspec": {
   "display_name": "Python 3",
   "language": "python",
   "name": "python3"
  },
  "language_info": {
   "codemirror_mode": {
    "name": "ipython",
    "version": 3
   },
   "file_extension": ".py",
   "mimetype": "text/x-python",
   "name": "python",
   "nbconvert_exporter": "python",
   "pygments_lexer": "ipython3",
   "version": "3.7.3"
  }
 },
 "nbformat": 4,
 "nbformat_minor": 2
}
